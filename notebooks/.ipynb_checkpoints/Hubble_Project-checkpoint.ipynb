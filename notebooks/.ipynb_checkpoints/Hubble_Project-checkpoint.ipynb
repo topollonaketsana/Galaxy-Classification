{
 "cells": [
  {
   "cell_type": "markdown",
   "id": "0a11a074-525c-4c66-8805-71025d8be803",
   "metadata": {},
   "source": [
    "## Background\n",
    "### Introduction\n",
    "Our goal with this project is to use machine learning to make scientific discoveries in archived data. We're going to be focusing on galaxy images from the infamous Hubble Space Telescope. While all these images are beautiful, we're looking for anything unusual or weird that might warrant further investigation. In other words, we want to find anything that doesn't look like a \"boring\" spiral or elliptical galaxy (you can see below some examples of \"boring\" galaxies).\n",
    "\n",
    "But why would we want to do this? Can't you just look at the data and find the interesting things? You can, as long as the dataset is small enough. The dataset we've put together for you has over 17000 images, which would take you hours or even days to look through. And this is a tiny subset of all the images that are in the Hubble archive, which number in the millions. As more powerful telescopes are being built, the data rates are just increasing and we need to turn to automated methods to help us make new discoveries.\n",
    "\n",
    "### Resources\n",
    "**Hubble and Galaxy Zoo** <br>\n",
    "https://hubblesite.org/home <br>\n",
    "https://www.zooniverse.org/projects/zookeeper/galaxy-zoo/ <br>\n",
    "**General machine learning** <br>\n",
    "https://www.youtube.com/watch?v=gLD8I3zcjB0 <br>\n",
    "https://www.youtube.com/watch?v=ubhLmFQPgjc&t=1152s <br>\n",
    "https://www.youtube.com/watch?v=g7caAxKBptc (much more advanced talk) <br>\n",
    "**Convolutional neural networks and feature extraction** <br>\n",
    "https://www.datacamp.com/tutorial/introduction-to-convolutional-neural-networks-cnns <br>\n",
    "https://www.youtube.com/watch?v=RZvPgSiOYas (not fantastic but best I could find) <br>\n",
    "**Local outlier factor** <br>\n",
    "https://scikit-learn.org/stable/modules/generated/sklearn.neighbors.LocalOutlierFactor.html <br>\n",
    "https://medium.com/@pramodch/understanding-lof-local-outlier-factor-for-implementation-1f6d4ff13ab9 <br>\n"
   ]
  },
  {
   "cell_type": "markdown",
   "id": "2c231631-b122-41c0-b650-9ddbc139535f",
   "metadata": {},
   "source": [
    "### Import packages"
   ]
  },
  {
   "cell_type": "code",
   "execution_count": 209,
   "id": "b23838d6-8f8e-4735-ad20-4dbbde06afce",
   "metadata": {
    "tags": []
   },
   "outputs": [],
   "source": [
    "import os\n",
    "from pathlib import Path                                           # Used to handle filesystem paths\n",
    "import pandas as pd                                                # Used to read in and work with the data as a \"DataFrame\"\n",
    "import numpy as np                                                 # Our favourite numerical library\n",
    "import matplotlib.pyplot as plt                                    # Our favourite plotting library\n",
    "from sklearn.neighbors import LocalOutlierFactor                   # The suggested anomaly detection algorithm\n",
    "from PIL import Image                                              # This library will allow us to easily display png files in the notebook\n",
    "from matplotlib.colors import LogNorm\n",
    "from sklearn.decomposition import PCA"
   ]
  },
  {
   "cell_type": "markdown",
   "id": "ebf8b92d-a032-4ab0-848f-c12c1020acae",
   "metadata": {},
   "source": [
    "### Read the relevant files"
   ]
  },
  {
   "cell_type": "code",
   "execution_count": 210,
   "id": "8ea3c9b2-c1ec-43cd-a198-67c9722ae49a",
   "metadata": {
    "tags": []
   },
   "outputs": [
    {
     "name": "stdout",
     "output_type": "stream",
     "text": [
      "current working dir /media/user/Galaxy-Classification/notebooks\n"
     ]
    }
   ],
   "source": [
    "## The paths to the data and images directories in the team workspace\n",
    "print('current working dir', os.getcwd())\n",
    "\n",
    "## load data\n",
    "data_directory = '/media/user/data/' \n",
    "images_directory = Path('/media/team_workspaces/astronomaly-project/images')\n",
    "\n",
    "## The zoobot features after running PCA\n",
    "features_reduced = pd.read_csv(data_directory + 'all-pca-components-refined.csv', index_col= 0)\n",
    "\n",
    "## Coordinates for the sources\n",
    "source_coords = pd.read_csv(data_directory + 'source-coordinates.csv', index_col= 1)"
   ]
  },
  {
   "cell_type": "markdown",
   "id": "4a606036-da89-4aa3-84cd-4b20118f27ff",
   "metadata": {},
   "source": [
    "### Open the data"
   ]
  },
  {
   "cell_type": "markdown",
   "id": "0aa7222d-d2c6-4732-bc7a-633525316e9b",
   "metadata": {},
   "source": [
    "#### Each row of the DataFrame has a unique index which helps us keep track of exactly which set of numbers belongs to which source. "
   ]
  },
  {
   "cell_type": "code",
   "execution_count": 211,
   "id": "eff6322f-c611-4aca-bc77-6e2a80f8f858",
   "metadata": {
    "tags": []
   },
   "outputs": [
    {
     "data": {
      "text/html": [
       "<div>\n",
       "<style scoped>\n",
       "    .dataframe tbody tr th:only-of-type {\n",
       "        vertical-align: middle;\n",
       "    }\n",
       "\n",
       "    .dataframe tbody tr th {\n",
       "        vertical-align: top;\n",
       "    }\n",
       "\n",
       "    .dataframe thead th {\n",
       "        text-align: right;\n",
       "    }\n",
       "</style>\n",
       "<table border=\"1\" class=\"dataframe\">\n",
       "  <thead>\n",
       "    <tr style=\"text-align: right;\">\n",
       "      <th></th>\n",
       "      <th>SourceID</th>\n",
       "      <th>file_loc</th>\n",
       "      <th>feat_0_pca</th>\n",
       "      <th>feat_1_pca</th>\n",
       "      <th>feat_2_pca</th>\n",
       "      <th>feat_3_pca</th>\n",
       "      <th>feat_4_pca</th>\n",
       "      <th>feat_5_pca</th>\n",
       "      <th>feat_6_pca</th>\n",
       "      <th>feat_7_pca</th>\n",
       "      <th>...</th>\n",
       "      <th>feat_30_pca</th>\n",
       "      <th>feat_31_pca</th>\n",
       "      <th>feat_32_pca</th>\n",
       "      <th>feat_33_pca</th>\n",
       "      <th>feat_34_pca</th>\n",
       "      <th>feat_35_pca</th>\n",
       "      <th>feat_36_pca</th>\n",
       "      <th>feat_37_pca</th>\n",
       "      <th>feat_38_pca</th>\n",
       "      <th>feat_39_pca</th>\n",
       "    </tr>\n",
       "  </thead>\n",
       "  <tbody>\n",
       "    <tr>\n",
       "      <th>0</th>\n",
       "      <td>AHZ2000ap3</td>\n",
       "      <td>/media/team_workspaces/astronomaly-project/ima...</td>\n",
       "      <td>0.644151</td>\n",
       "      <td>-0.607720</td>\n",
       "      <td>-0.652212</td>\n",
       "      <td>0.161491</td>\n",
       "      <td>0.329425</td>\n",
       "      <td>-0.111614</td>\n",
       "      <td>-0.078075</td>\n",
       "      <td>0.243963</td>\n",
       "      <td>...</td>\n",
       "      <td>-0.047008</td>\n",
       "      <td>0.034110</td>\n",
       "      <td>0.045288</td>\n",
       "      <td>-0.014910</td>\n",
       "      <td>-0.027302</td>\n",
       "      <td>-0.006636</td>\n",
       "      <td>0.066010</td>\n",
       "      <td>0.091932</td>\n",
       "      <td>0.000969</td>\n",
       "      <td>0.081786</td>\n",
       "    </tr>\n",
       "    <tr>\n",
       "      <th>1</th>\n",
       "      <td>4000712889196</td>\n",
       "      <td>/media/team_workspaces/astronomaly-project/ima...</td>\n",
       "      <td>1.793052</td>\n",
       "      <td>-0.652613</td>\n",
       "      <td>-0.547502</td>\n",
       "      <td>-0.185649</td>\n",
       "      <td>0.189948</td>\n",
       "      <td>0.280023</td>\n",
       "      <td>-0.285091</td>\n",
       "      <td>0.526109</td>\n",
       "      <td>...</td>\n",
       "      <td>-0.011317</td>\n",
       "      <td>0.019125</td>\n",
       "      <td>-0.010794</td>\n",
       "      <td>-0.032408</td>\n",
       "      <td>0.003039</td>\n",
       "      <td>-0.010592</td>\n",
       "      <td>0.056721</td>\n",
       "      <td>-0.019649</td>\n",
       "      <td>-0.013452</td>\n",
       "      <td>0.017829</td>\n",
       "    </tr>\n",
       "    <tr>\n",
       "      <th>2</th>\n",
       "      <td>4000710658615</td>\n",
       "      <td>/media/team_workspaces/astronomaly-project/ima...</td>\n",
       "      <td>1.944819</td>\n",
       "      <td>-0.582089</td>\n",
       "      <td>-0.348063</td>\n",
       "      <td>-0.240915</td>\n",
       "      <td>0.122469</td>\n",
       "      <td>0.270349</td>\n",
       "      <td>-0.146614</td>\n",
       "      <td>0.333893</td>\n",
       "      <td>...</td>\n",
       "      <td>0.003306</td>\n",
       "      <td>0.047460</td>\n",
       "      <td>0.016832</td>\n",
       "      <td>-0.037377</td>\n",
       "      <td>0.016838</td>\n",
       "      <td>0.003930</td>\n",
       "      <td>0.026537</td>\n",
       "      <td>-0.018909</td>\n",
       "      <td>-0.034380</td>\n",
       "      <td>0.011928</td>\n",
       "    </tr>\n",
       "    <tr>\n",
       "      <th>3</th>\n",
       "      <td>AHZ2000ow7</td>\n",
       "      <td>/media/team_workspaces/astronomaly-project/ima...</td>\n",
       "      <td>-0.111912</td>\n",
       "      <td>-0.038260</td>\n",
       "      <td>0.540898</td>\n",
       "      <td>0.007854</td>\n",
       "      <td>0.466451</td>\n",
       "      <td>0.022677</td>\n",
       "      <td>-0.420133</td>\n",
       "      <td>0.039169</td>\n",
       "      <td>...</td>\n",
       "      <td>0.072039</td>\n",
       "      <td>-0.012041</td>\n",
       "      <td>-0.008450</td>\n",
       "      <td>-0.006786</td>\n",
       "      <td>0.015151</td>\n",
       "      <td>0.015686</td>\n",
       "      <td>-0.020232</td>\n",
       "      <td>-0.018433</td>\n",
       "      <td>0.018422</td>\n",
       "      <td>-0.000777</td>\n",
       "    </tr>\n",
       "    <tr>\n",
       "      <th>4</th>\n",
       "      <td>4111276917</td>\n",
       "      <td>/media/team_workspaces/astronomaly-project/ima...</td>\n",
       "      <td>-1.876487</td>\n",
       "      <td>0.702289</td>\n",
       "      <td>0.362675</td>\n",
       "      <td>-0.520290</td>\n",
       "      <td>0.039717</td>\n",
       "      <td>-0.165041</td>\n",
       "      <td>-0.341243</td>\n",
       "      <td>0.122296</td>\n",
       "      <td>...</td>\n",
       "      <td>-0.077778</td>\n",
       "      <td>0.000792</td>\n",
       "      <td>-0.052679</td>\n",
       "      <td>0.002063</td>\n",
       "      <td>-0.001525</td>\n",
       "      <td>-0.030409</td>\n",
       "      <td>-0.050910</td>\n",
       "      <td>-0.043423</td>\n",
       "      <td>0.009688</td>\n",
       "      <td>0.039821</td>\n",
       "    </tr>\n",
       "  </tbody>\n",
       "</table>\n",
       "<p>5 rows × 42 columns</p>\n",
       "</div>"
      ],
      "text/plain": [
       "        SourceID                                           file_loc  \\\n",
       "0     AHZ2000ap3  /media/team_workspaces/astronomaly-project/ima...   \n",
       "1  4000712889196  /media/team_workspaces/astronomaly-project/ima...   \n",
       "2  4000710658615  /media/team_workspaces/astronomaly-project/ima...   \n",
       "3     AHZ2000ow7  /media/team_workspaces/astronomaly-project/ima...   \n",
       "4     4111276917  /media/team_workspaces/astronomaly-project/ima...   \n",
       "\n",
       "   feat_0_pca  feat_1_pca  feat_2_pca  feat_3_pca  feat_4_pca  feat_5_pca  \\\n",
       "0    0.644151   -0.607720   -0.652212    0.161491    0.329425   -0.111614   \n",
       "1    1.793052   -0.652613   -0.547502   -0.185649    0.189948    0.280023   \n",
       "2    1.944819   -0.582089   -0.348063   -0.240915    0.122469    0.270349   \n",
       "3   -0.111912   -0.038260    0.540898    0.007854    0.466451    0.022677   \n",
       "4   -1.876487    0.702289    0.362675   -0.520290    0.039717   -0.165041   \n",
       "\n",
       "   feat_6_pca  feat_7_pca  ...  feat_30_pca  feat_31_pca  feat_32_pca  \\\n",
       "0   -0.078075    0.243963  ...    -0.047008     0.034110     0.045288   \n",
       "1   -0.285091    0.526109  ...    -0.011317     0.019125    -0.010794   \n",
       "2   -0.146614    0.333893  ...     0.003306     0.047460     0.016832   \n",
       "3   -0.420133    0.039169  ...     0.072039    -0.012041    -0.008450   \n",
       "4   -0.341243    0.122296  ...    -0.077778     0.000792    -0.052679   \n",
       "\n",
       "   feat_33_pca  feat_34_pca  feat_35_pca  feat_36_pca  feat_37_pca  \\\n",
       "0    -0.014910    -0.027302    -0.006636     0.066010     0.091932   \n",
       "1    -0.032408     0.003039    -0.010592     0.056721    -0.019649   \n",
       "2    -0.037377     0.016838     0.003930     0.026537    -0.018909   \n",
       "3    -0.006786     0.015151     0.015686    -0.020232    -0.018433   \n",
       "4     0.002063    -0.001525    -0.030409    -0.050910    -0.043423   \n",
       "\n",
       "   feat_38_pca  feat_39_pca  \n",
       "0     0.000969     0.081786  \n",
       "1    -0.013452     0.017829  \n",
       "2    -0.034380     0.011928  \n",
       "3     0.018422    -0.000777  \n",
       "4     0.009688     0.039821  \n",
       "\n",
       "[5 rows x 42 columns]"
      ]
     },
     "execution_count": 211,
     "metadata": {},
     "output_type": "execute_result"
    }
   ],
   "source": [
    "features_reduced.head()"
   ]
  },
  {
   "cell_type": "markdown",
   "id": "a3367975-ceea-46a2-921e-9f942abed166",
   "metadata": {
    "tags": []
   },
   "source": [
    "## Preprocessing"
   ]
  },
  {
   "cell_type": "code",
   "execution_count": 212,
   "id": "6243e3ee-243f-456e-ab3b-4a7733ccf07a",
   "metadata": {
    "tags": []
   },
   "outputs": [
    {
     "data": {
      "text/plain": [
       "(17390, 42)"
      ]
     },
     "execution_count": 212,
     "metadata": {},
     "output_type": "execute_result"
    }
   ],
   "source": [
    "## shape of the data\n",
    "features_reduced.shape"
   ]
  },
  {
   "cell_type": "code",
   "execution_count": 213,
   "id": "0d572d36-118b-4486-8b4c-3c33a3bed4bf",
   "metadata": {
    "tags": []
   },
   "outputs": [
    {
     "name": "stdout",
     "output_type": "stream",
     "text": [
      "<class 'pandas.core.frame.DataFrame'>\n",
      "Int64Index: 17390 entries, 0 to 17600\n",
      "Data columns (total 42 columns):\n",
      " #   Column       Non-Null Count  Dtype  \n",
      "---  ------       --------------  -----  \n",
      " 0   SourceID     17390 non-null  object \n",
      " 1   file_loc     17390 non-null  object \n",
      " 2   feat_0_pca   17390 non-null  float64\n",
      " 3   feat_1_pca   17390 non-null  float64\n",
      " 4   feat_2_pca   17390 non-null  float64\n",
      " 5   feat_3_pca   17390 non-null  float64\n",
      " 6   feat_4_pca   17390 non-null  float64\n",
      " 7   feat_5_pca   17390 non-null  float64\n",
      " 8   feat_6_pca   17390 non-null  float64\n",
      " 9   feat_7_pca   17390 non-null  float64\n",
      " 10  feat_8_pca   17390 non-null  float64\n",
      " 11  feat_9_pca   17390 non-null  float64\n",
      " 12  feat_10_pca  17390 non-null  float64\n",
      " 13  feat_11_pca  17390 non-null  float64\n",
      " 14  feat_12_pca  17390 non-null  float64\n",
      " 15  feat_13_pca  17390 non-null  float64\n",
      " 16  feat_14_pca  17390 non-null  float64\n",
      " 17  feat_15_pca  17390 non-null  float64\n",
      " 18  feat_16_pca  17390 non-null  float64\n",
      " 19  feat_17_pca  17390 non-null  float64\n",
      " 20  feat_18_pca  17390 non-null  float64\n",
      " 21  feat_19_pca  17390 non-null  float64\n",
      " 22  feat_20_pca  17390 non-null  float64\n",
      " 23  feat_21_pca  17390 non-null  float64\n",
      " 24  feat_22_pca  17390 non-null  float64\n",
      " 25  feat_23_pca  17390 non-null  float64\n",
      " 26  feat_24_pca  17390 non-null  float64\n",
      " 27  feat_25_pca  17390 non-null  float64\n",
      " 28  feat_26_pca  17390 non-null  float64\n",
      " 29  feat_27_pca  17390 non-null  float64\n",
      " 30  feat_28_pca  17390 non-null  float64\n",
      " 31  feat_29_pca  17390 non-null  float64\n",
      " 32  feat_30_pca  17390 non-null  float64\n",
      " 33  feat_31_pca  17390 non-null  float64\n",
      " 34  feat_32_pca  17390 non-null  float64\n",
      " 35  feat_33_pca  17390 non-null  float64\n",
      " 36  feat_34_pca  17390 non-null  float64\n",
      " 37  feat_35_pca  17390 non-null  float64\n",
      " 38  feat_36_pca  17390 non-null  float64\n",
      " 39  feat_37_pca  17390 non-null  float64\n",
      " 40  feat_38_pca  17390 non-null  float64\n",
      " 41  feat_39_pca  17390 non-null  float64\n",
      "dtypes: float64(40), object(2)\n",
      "memory usage: 5.7+ MB\n"
     ]
    }
   ],
   "source": [
    "## info about the data\n",
    "features_reduced.info()"
   ]
  },
  {
   "cell_type": "code",
   "execution_count": 214,
   "id": "9fe33c74-7c24-4649-9cb5-568b6b3ca6b5",
   "metadata": {
    "tags": []
   },
   "outputs": [
    {
     "name": "stdout",
     "output_type": "stream",
     "text": [
      "SourceID        object\n",
      "file_loc        object\n",
      "feat_0_pca     float64\n",
      "feat_1_pca     float64\n",
      "feat_2_pca     float64\n",
      "feat_3_pca     float64\n",
      "feat_4_pca     float64\n",
      "feat_5_pca     float64\n",
      "feat_6_pca     float64\n",
      "feat_7_pca     float64\n",
      "feat_8_pca     float64\n",
      "feat_9_pca     float64\n",
      "feat_10_pca    float64\n",
      "feat_11_pca    float64\n",
      "feat_12_pca    float64\n",
      "feat_13_pca    float64\n",
      "feat_14_pca    float64\n",
      "feat_15_pca    float64\n",
      "feat_16_pca    float64\n",
      "feat_17_pca    float64\n",
      "feat_18_pca    float64\n",
      "feat_19_pca    float64\n",
      "feat_20_pca    float64\n",
      "feat_21_pca    float64\n",
      "feat_22_pca    float64\n",
      "feat_23_pca    float64\n",
      "feat_24_pca    float64\n",
      "feat_25_pca    float64\n",
      "feat_26_pca    float64\n",
      "feat_27_pca    float64\n",
      "feat_28_pca    float64\n",
      "feat_29_pca    float64\n",
      "feat_30_pca    float64\n",
      "feat_31_pca    float64\n",
      "feat_32_pca    float64\n",
      "feat_33_pca    float64\n",
      "feat_34_pca    float64\n",
      "feat_35_pca    float64\n",
      "feat_36_pca    float64\n",
      "feat_37_pca    float64\n",
      "feat_38_pca    float64\n",
      "feat_39_pca    float64\n",
      "dtype: object\n"
     ]
    }
   ],
   "source": [
    "print(features_reduced.dtypes)"
   ]
  },
  {
   "cell_type": "markdown",
   "id": "789e7b6a-7876-48e5-861e-7c14e056676c",
   "metadata": {},
   "source": [
    "###"
   ]
  },
  {
   "cell_type": "code",
   "execution_count": 215,
   "id": "bf69518e-a242-40db-8bc6-4e8a28fe4860",
   "metadata": {
    "tags": []
   },
   "outputs": [
    {
     "data": {
      "text/html": [
       "<div>\n",
       "<style scoped>\n",
       "    .dataframe tbody tr th:only-of-type {\n",
       "        vertical-align: middle;\n",
       "    }\n",
       "\n",
       "    .dataframe tbody tr th {\n",
       "        vertical-align: top;\n",
       "    }\n",
       "\n",
       "    .dataframe thead th {\n",
       "        text-align: right;\n",
       "    }\n",
       "</style>\n",
       "<table border=\"1\" class=\"dataframe\">\n",
       "  <thead>\n",
       "    <tr style=\"text-align: right;\">\n",
       "      <th></th>\n",
       "      <th>SourceID</th>\n",
       "      <th>file_loc</th>\n",
       "      <th>feat_0_pca</th>\n",
       "      <th>feat_1_pca</th>\n",
       "      <th>feat_2_pca</th>\n",
       "      <th>feat_3_pca</th>\n",
       "      <th>feat_4_pca</th>\n",
       "      <th>feat_5_pca</th>\n",
       "      <th>feat_6_pca</th>\n",
       "      <th>feat_7_pca</th>\n",
       "      <th>...</th>\n",
       "      <th>feat_30_pca</th>\n",
       "      <th>feat_31_pca</th>\n",
       "      <th>feat_32_pca</th>\n",
       "      <th>feat_33_pca</th>\n",
       "      <th>feat_34_pca</th>\n",
       "      <th>feat_35_pca</th>\n",
       "      <th>feat_36_pca</th>\n",
       "      <th>feat_37_pca</th>\n",
       "      <th>feat_38_pca</th>\n",
       "      <th>feat_39_pca</th>\n",
       "    </tr>\n",
       "  </thead>\n",
       "  <tbody>\n",
       "    <tr>\n",
       "      <th>0</th>\n",
       "      <td>False</td>\n",
       "      <td>False</td>\n",
       "      <td>False</td>\n",
       "      <td>False</td>\n",
       "      <td>False</td>\n",
       "      <td>False</td>\n",
       "      <td>False</td>\n",
       "      <td>False</td>\n",
       "      <td>False</td>\n",
       "      <td>False</td>\n",
       "      <td>...</td>\n",
       "      <td>False</td>\n",
       "      <td>False</td>\n",
       "      <td>False</td>\n",
       "      <td>False</td>\n",
       "      <td>False</td>\n",
       "      <td>False</td>\n",
       "      <td>False</td>\n",
       "      <td>False</td>\n",
       "      <td>False</td>\n",
       "      <td>False</td>\n",
       "    </tr>\n",
       "    <tr>\n",
       "      <th>1</th>\n",
       "      <td>False</td>\n",
       "      <td>False</td>\n",
       "      <td>False</td>\n",
       "      <td>False</td>\n",
       "      <td>False</td>\n",
       "      <td>False</td>\n",
       "      <td>False</td>\n",
       "      <td>False</td>\n",
       "      <td>False</td>\n",
       "      <td>False</td>\n",
       "      <td>...</td>\n",
       "      <td>False</td>\n",
       "      <td>False</td>\n",
       "      <td>False</td>\n",
       "      <td>False</td>\n",
       "      <td>False</td>\n",
       "      <td>False</td>\n",
       "      <td>False</td>\n",
       "      <td>False</td>\n",
       "      <td>False</td>\n",
       "      <td>False</td>\n",
       "    </tr>\n",
       "    <tr>\n",
       "      <th>2</th>\n",
       "      <td>False</td>\n",
       "      <td>False</td>\n",
       "      <td>False</td>\n",
       "      <td>False</td>\n",
       "      <td>False</td>\n",
       "      <td>False</td>\n",
       "      <td>False</td>\n",
       "      <td>False</td>\n",
       "      <td>False</td>\n",
       "      <td>False</td>\n",
       "      <td>...</td>\n",
       "      <td>False</td>\n",
       "      <td>False</td>\n",
       "      <td>False</td>\n",
       "      <td>False</td>\n",
       "      <td>False</td>\n",
       "      <td>False</td>\n",
       "      <td>False</td>\n",
       "      <td>False</td>\n",
       "      <td>False</td>\n",
       "      <td>False</td>\n",
       "    </tr>\n",
       "    <tr>\n",
       "      <th>3</th>\n",
       "      <td>False</td>\n",
       "      <td>False</td>\n",
       "      <td>False</td>\n",
       "      <td>False</td>\n",
       "      <td>False</td>\n",
       "      <td>False</td>\n",
       "      <td>False</td>\n",
       "      <td>False</td>\n",
       "      <td>False</td>\n",
       "      <td>False</td>\n",
       "      <td>...</td>\n",
       "      <td>False</td>\n",
       "      <td>False</td>\n",
       "      <td>False</td>\n",
       "      <td>False</td>\n",
       "      <td>False</td>\n",
       "      <td>False</td>\n",
       "      <td>False</td>\n",
       "      <td>False</td>\n",
       "      <td>False</td>\n",
       "      <td>False</td>\n",
       "    </tr>\n",
       "    <tr>\n",
       "      <th>4</th>\n",
       "      <td>False</td>\n",
       "      <td>False</td>\n",
       "      <td>False</td>\n",
       "      <td>False</td>\n",
       "      <td>False</td>\n",
       "      <td>False</td>\n",
       "      <td>False</td>\n",
       "      <td>False</td>\n",
       "      <td>False</td>\n",
       "      <td>False</td>\n",
       "      <td>...</td>\n",
       "      <td>False</td>\n",
       "      <td>False</td>\n",
       "      <td>False</td>\n",
       "      <td>False</td>\n",
       "      <td>False</td>\n",
       "      <td>False</td>\n",
       "      <td>False</td>\n",
       "      <td>False</td>\n",
       "      <td>False</td>\n",
       "      <td>False</td>\n",
       "    </tr>\n",
       "    <tr>\n",
       "      <th>...</th>\n",
       "      <td>...</td>\n",
       "      <td>...</td>\n",
       "      <td>...</td>\n",
       "      <td>...</td>\n",
       "      <td>...</td>\n",
       "      <td>...</td>\n",
       "      <td>...</td>\n",
       "      <td>...</td>\n",
       "      <td>...</td>\n",
       "      <td>...</td>\n",
       "      <td>...</td>\n",
       "      <td>...</td>\n",
       "      <td>...</td>\n",
       "      <td>...</td>\n",
       "      <td>...</td>\n",
       "      <td>...</td>\n",
       "      <td>...</td>\n",
       "      <td>...</td>\n",
       "      <td>...</td>\n",
       "      <td>...</td>\n",
       "      <td>...</td>\n",
       "    </tr>\n",
       "    <tr>\n",
       "      <th>17596</th>\n",
       "      <td>False</td>\n",
       "      <td>False</td>\n",
       "      <td>False</td>\n",
       "      <td>False</td>\n",
       "      <td>False</td>\n",
       "      <td>False</td>\n",
       "      <td>False</td>\n",
       "      <td>False</td>\n",
       "      <td>False</td>\n",
       "      <td>False</td>\n",
       "      <td>...</td>\n",
       "      <td>False</td>\n",
       "      <td>False</td>\n",
       "      <td>False</td>\n",
       "      <td>False</td>\n",
       "      <td>False</td>\n",
       "      <td>False</td>\n",
       "      <td>False</td>\n",
       "      <td>False</td>\n",
       "      <td>False</td>\n",
       "      <td>False</td>\n",
       "    </tr>\n",
       "    <tr>\n",
       "      <th>17597</th>\n",
       "      <td>False</td>\n",
       "      <td>False</td>\n",
       "      <td>False</td>\n",
       "      <td>False</td>\n",
       "      <td>False</td>\n",
       "      <td>False</td>\n",
       "      <td>False</td>\n",
       "      <td>False</td>\n",
       "      <td>False</td>\n",
       "      <td>False</td>\n",
       "      <td>...</td>\n",
       "      <td>False</td>\n",
       "      <td>False</td>\n",
       "      <td>False</td>\n",
       "      <td>False</td>\n",
       "      <td>False</td>\n",
       "      <td>False</td>\n",
       "      <td>False</td>\n",
       "      <td>False</td>\n",
       "      <td>False</td>\n",
       "      <td>False</td>\n",
       "    </tr>\n",
       "    <tr>\n",
       "      <th>17598</th>\n",
       "      <td>False</td>\n",
       "      <td>False</td>\n",
       "      <td>False</td>\n",
       "      <td>False</td>\n",
       "      <td>False</td>\n",
       "      <td>False</td>\n",
       "      <td>False</td>\n",
       "      <td>False</td>\n",
       "      <td>False</td>\n",
       "      <td>False</td>\n",
       "      <td>...</td>\n",
       "      <td>False</td>\n",
       "      <td>False</td>\n",
       "      <td>False</td>\n",
       "      <td>False</td>\n",
       "      <td>False</td>\n",
       "      <td>False</td>\n",
       "      <td>False</td>\n",
       "      <td>False</td>\n",
       "      <td>False</td>\n",
       "      <td>False</td>\n",
       "    </tr>\n",
       "    <tr>\n",
       "      <th>17599</th>\n",
       "      <td>False</td>\n",
       "      <td>False</td>\n",
       "      <td>False</td>\n",
       "      <td>False</td>\n",
       "      <td>False</td>\n",
       "      <td>False</td>\n",
       "      <td>False</td>\n",
       "      <td>False</td>\n",
       "      <td>False</td>\n",
       "      <td>False</td>\n",
       "      <td>...</td>\n",
       "      <td>False</td>\n",
       "      <td>False</td>\n",
       "      <td>False</td>\n",
       "      <td>False</td>\n",
       "      <td>False</td>\n",
       "      <td>False</td>\n",
       "      <td>False</td>\n",
       "      <td>False</td>\n",
       "      <td>False</td>\n",
       "      <td>False</td>\n",
       "    </tr>\n",
       "    <tr>\n",
       "      <th>17600</th>\n",
       "      <td>False</td>\n",
       "      <td>False</td>\n",
       "      <td>False</td>\n",
       "      <td>False</td>\n",
       "      <td>False</td>\n",
       "      <td>False</td>\n",
       "      <td>False</td>\n",
       "      <td>False</td>\n",
       "      <td>False</td>\n",
       "      <td>False</td>\n",
       "      <td>...</td>\n",
       "      <td>False</td>\n",
       "      <td>False</td>\n",
       "      <td>False</td>\n",
       "      <td>False</td>\n",
       "      <td>False</td>\n",
       "      <td>False</td>\n",
       "      <td>False</td>\n",
       "      <td>False</td>\n",
       "      <td>False</td>\n",
       "      <td>False</td>\n",
       "    </tr>\n",
       "  </tbody>\n",
       "</table>\n",
       "<p>17390 rows × 42 columns</p>\n",
       "</div>"
      ],
      "text/plain": [
       "       SourceID  file_loc  feat_0_pca  feat_1_pca  feat_2_pca  feat_3_pca  \\\n",
       "0         False     False       False       False       False       False   \n",
       "1         False     False       False       False       False       False   \n",
       "2         False     False       False       False       False       False   \n",
       "3         False     False       False       False       False       False   \n",
       "4         False     False       False       False       False       False   \n",
       "...         ...       ...         ...         ...         ...         ...   \n",
       "17596     False     False       False       False       False       False   \n",
       "17597     False     False       False       False       False       False   \n",
       "17598     False     False       False       False       False       False   \n",
       "17599     False     False       False       False       False       False   \n",
       "17600     False     False       False       False       False       False   \n",
       "\n",
       "       feat_4_pca  feat_5_pca  feat_6_pca  feat_7_pca  ...  feat_30_pca  \\\n",
       "0           False       False       False       False  ...        False   \n",
       "1           False       False       False       False  ...        False   \n",
       "2           False       False       False       False  ...        False   \n",
       "3           False       False       False       False  ...        False   \n",
       "4           False       False       False       False  ...        False   \n",
       "...           ...         ...         ...         ...  ...          ...   \n",
       "17596       False       False       False       False  ...        False   \n",
       "17597       False       False       False       False  ...        False   \n",
       "17598       False       False       False       False  ...        False   \n",
       "17599       False       False       False       False  ...        False   \n",
       "17600       False       False       False       False  ...        False   \n",
       "\n",
       "       feat_31_pca  feat_32_pca  feat_33_pca  feat_34_pca  feat_35_pca  \\\n",
       "0            False        False        False        False        False   \n",
       "1            False        False        False        False        False   \n",
       "2            False        False        False        False        False   \n",
       "3            False        False        False        False        False   \n",
       "4            False        False        False        False        False   \n",
       "...            ...          ...          ...          ...          ...   \n",
       "17596        False        False        False        False        False   \n",
       "17597        False        False        False        False        False   \n",
       "17598        False        False        False        False        False   \n",
       "17599        False        False        False        False        False   \n",
       "17600        False        False        False        False        False   \n",
       "\n",
       "       feat_36_pca  feat_37_pca  feat_38_pca  feat_39_pca  \n",
       "0            False        False        False        False  \n",
       "1            False        False        False        False  \n",
       "2            False        False        False        False  \n",
       "3            False        False        False        False  \n",
       "4            False        False        False        False  \n",
       "...            ...          ...          ...          ...  \n",
       "17596        False        False        False        False  \n",
       "17597        False        False        False        False  \n",
       "17598        False        False        False        False  \n",
       "17599        False        False        False        False  \n",
       "17600        False        False        False        False  \n",
       "\n",
       "[17390 rows x 42 columns]"
      ]
     },
     "execution_count": 215,
     "metadata": {},
     "output_type": "execute_result"
    }
   ],
   "source": [
    "## check missing values\n",
    "features_reduced.isna()"
   ]
  },
  {
   "cell_type": "code",
   "execution_count": 216,
   "id": "2b81a6e4-4ffb-43b2-b67f-5e6e8d20fa93",
   "metadata": {
    "tags": []
   },
   "outputs": [
    {
     "data": {
      "text/plain": [
       "0"
      ]
     },
     "execution_count": 216,
     "metadata": {},
     "output_type": "execute_result"
    }
   ],
   "source": [
    "features_reduced.isna().sum().sum()"
   ]
  },
  {
   "cell_type": "markdown",
   "id": "ed7e43f6-ea38-4ee0-a0dc-8a2e79ecb793",
   "metadata": {},
   "source": [
    "### No missing values on dataset"
   ]
  },
  {
   "cell_type": "markdown",
   "id": "33018464-057c-43f0-8f12-cf28610b2e02",
   "metadata": {},
   "source": [
    "### We can check and study the second data frame, `source_coords` - position data frame"
   ]
  },
  {
   "cell_type": "code",
   "execution_count": 217,
   "id": "b2dc014c-c04f-424d-a6e1-db44d856fcf2",
   "metadata": {
    "tags": []
   },
   "outputs": [
    {
     "data": {
      "text/html": [
       "<div>\n",
       "<style scoped>\n",
       "    .dataframe tbody tr th:only-of-type {\n",
       "        vertical-align: middle;\n",
       "    }\n",
       "\n",
       "    .dataframe tbody tr th {\n",
       "        vertical-align: top;\n",
       "    }\n",
       "\n",
       "    .dataframe thead th {\n",
       "        text-align: right;\n",
       "    }\n",
       "</style>\n",
       "<table border=\"1\" class=\"dataframe\">\n",
       "  <thead>\n",
       "    <tr style=\"text-align: right;\">\n",
       "      <th></th>\n",
       "      <th>Unnamed: 0</th>\n",
       "      <th>RA</th>\n",
       "      <th>Dec</th>\n",
       "      <th>file_loc</th>\n",
       "    </tr>\n",
       "    <tr>\n",
       "      <th>SourceID</th>\n",
       "      <th></th>\n",
       "      <th></th>\n",
       "      <th></th>\n",
       "      <th></th>\n",
       "    </tr>\n",
       "  </thead>\n",
       "  <tbody>\n",
       "    <tr>\n",
       "      <th>AHZ2000ap3</th>\n",
       "      <td>0</td>\n",
       "      <td>150.3053182</td>\n",
       "      <td>1.8976633</td>\n",
       "      <td>/media/team_workspaces/astronomaly-project/ima...</td>\n",
       "    </tr>\n",
       "    <tr>\n",
       "      <th>4000712889196</th>\n",
       "      <td>1</td>\n",
       "      <td>11.4864402</td>\n",
       "      <td>41.9962016</td>\n",
       "      <td>/media/team_workspaces/astronomaly-project/ima...</td>\n",
       "    </tr>\n",
       "    <tr>\n",
       "      <th>4000710658615</th>\n",
       "      <td>2</td>\n",
       "      <td>11.4642217</td>\n",
       "      <td>42.1513209</td>\n",
       "      <td>/media/team_workspaces/astronomaly-project/ima...</td>\n",
       "    </tr>\n",
       "    <tr>\n",
       "      <th>AHZ2000ow7</th>\n",
       "      <td>3</td>\n",
       "      <td>150.53574609999998</td>\n",
       "      <td>2.1374021</td>\n",
       "      <td>/media/team_workspaces/astronomaly-project/ima...</td>\n",
       "    </tr>\n",
       "    <tr>\n",
       "      <th>4111276917</th>\n",
       "      <td>4</td>\n",
       "      <td>344.677271</td>\n",
       "      <td>-34.824124299999994</td>\n",
       "      <td>/media/team_workspaces/astronomaly-project/ima...</td>\n",
       "    </tr>\n",
       "  </tbody>\n",
       "</table>\n",
       "</div>"
      ],
      "text/plain": [
       "               Unnamed: 0                  RA                  Dec  \\\n",
       "SourceID                                                             \n",
       "AHZ2000ap3              0         150.3053182            1.8976633   \n",
       "4000712889196           1          11.4864402           41.9962016   \n",
       "4000710658615           2          11.4642217           42.1513209   \n",
       "AHZ2000ow7              3  150.53574609999998            2.1374021   \n",
       "4111276917              4          344.677271  -34.824124299999994   \n",
       "\n",
       "                                                        file_loc  \n",
       "SourceID                                                          \n",
       "AHZ2000ap3     /media/team_workspaces/astronomaly-project/ima...  \n",
       "4000712889196  /media/team_workspaces/astronomaly-project/ima...  \n",
       "4000710658615  /media/team_workspaces/astronomaly-project/ima...  \n",
       "AHZ2000ow7     /media/team_workspaces/astronomaly-project/ima...  \n",
       "4111276917     /media/team_workspaces/astronomaly-project/ima...  "
      ]
     },
     "execution_count": 217,
     "metadata": {},
     "output_type": "execute_result"
    }
   ],
   "source": [
    "## \n",
    "source_coords.head()"
   ]
  },
  {
   "cell_type": "code",
   "execution_count": 218,
   "id": "4bfc907c-4b4c-45fe-9d14-54d28a7c1d98",
   "metadata": {
    "tags": []
   },
   "outputs": [
    {
     "data": {
      "text/plain": [
       "(17601, 4)"
      ]
     },
     "execution_count": 218,
     "metadata": {},
     "output_type": "execute_result"
    }
   ],
   "source": [
    "## shape\n",
    "source_coords.shape"
   ]
  },
  {
   "cell_type": "code",
   "execution_count": 219,
   "id": "7bd979da-5398-404e-954a-4a42ecd74570",
   "metadata": {
    "tags": []
   },
   "outputs": [
    {
     "data": {
      "text/plain": [
       "Unnamed: 0     int64\n",
       "RA            object\n",
       "Dec           object\n",
       "file_loc      object\n",
       "dtype: object"
      ]
     },
     "execution_count": 219,
     "metadata": {},
     "output_type": "execute_result"
    }
   ],
   "source": [
    "source_coords.dtypes"
   ]
  },
  {
   "cell_type": "markdown",
   "id": "4242c981-8a9d-4fee-9721-74d102adef88",
   "metadata": {},
   "source": [
    "### we can drop unnamed column/axis1 `Unnamed: 0`"
   ]
  },
  {
   "cell_type": "code",
   "execution_count": 220,
   "id": "9454dc81-f8c2-4725-a93d-41ca34c8d241",
   "metadata": {
    "tags": []
   },
   "outputs": [],
   "source": [
    "source_coords = source_coords.drop('Unnamed: 0', axis=1)"
   ]
  },
  {
   "cell_type": "code",
   "execution_count": 221,
   "id": "1961158f-602a-4008-96e8-b143e02b0310",
   "metadata": {
    "tags": []
   },
   "outputs": [
    {
     "name": "stdout",
     "output_type": "stream",
     "text": [
      "<class 'pandas.core.frame.DataFrame'>\n",
      "Index: 17601 entries, AHZ2000ap3 to COS_2333\n",
      "Data columns (total 3 columns):\n",
      " #   Column    Non-Null Count  Dtype \n",
      "---  ------    --------------  ----- \n",
      " 0   RA        15782 non-null  object\n",
      " 1   Dec       15782 non-null  object\n",
      " 2   file_loc  17601 non-null  object\n",
      "dtypes: object(3)\n",
      "memory usage: 550.0+ KB\n"
     ]
    }
   ],
   "source": [
    "source_coords.info()"
   ]
  },
  {
   "cell_type": "markdown",
   "id": "1434105a-810f-4d43-838b-1b515d273a46",
   "metadata": {
    "tags": []
   },
   "source": [
    "####"
   ]
  },
  {
   "cell_type": "markdown",
   "id": "20ada419-1579-4c17-957a-1e6966cd261e",
   "metadata": {},
   "source": [
    "### we can see that features are mixed up with information about the source like its name and where the file is stored. For algorithm simplicity we need to drop them. we can do so by spliting the data set with its copy"
   ]
  },
  {
   "cell_type": "code",
   "execution_count": 222,
   "id": "c431df4c-cf2d-40a3-8b2f-722aa8d876b4",
   "metadata": {
    "tags": []
   },
   "outputs": [],
   "source": [
    "## a copy of the two dataframes\n",
    "features = features_reduced.copy()\n",
    "positions = source_coords.copy()"
   ]
  },
  {
   "cell_type": "markdown",
   "id": "81f02fbe-3c90-42da-8914-91c0f7732243",
   "metadata": {},
   "source": [
    "##"
   ]
  },
  {
   "cell_type": "code",
   "execution_count": 223,
   "id": "f644da36-f467-4fd6-bdf2-089ef0adc782",
   "metadata": {
    "tags": []
   },
   "outputs": [
    {
     "data": {
      "text/html": [
       "<div>\n",
       "<style scoped>\n",
       "    .dataframe tbody tr th:only-of-type {\n",
       "        vertical-align: middle;\n",
       "    }\n",
       "\n",
       "    .dataframe tbody tr th {\n",
       "        vertical-align: top;\n",
       "    }\n",
       "\n",
       "    .dataframe thead th {\n",
       "        text-align: right;\n",
       "    }\n",
       "</style>\n",
       "<table border=\"1\" class=\"dataframe\">\n",
       "  <thead>\n",
       "    <tr style=\"text-align: right;\">\n",
       "      <th></th>\n",
       "      <th>SourceID</th>\n",
       "      <th>file_loc</th>\n",
       "      <th>feat_0_pca</th>\n",
       "      <th>feat_1_pca</th>\n",
       "      <th>feat_2_pca</th>\n",
       "      <th>feat_3_pca</th>\n",
       "      <th>feat_4_pca</th>\n",
       "      <th>feat_5_pca</th>\n",
       "      <th>feat_6_pca</th>\n",
       "      <th>feat_7_pca</th>\n",
       "      <th>...</th>\n",
       "      <th>feat_30_pca</th>\n",
       "      <th>feat_31_pca</th>\n",
       "      <th>feat_32_pca</th>\n",
       "      <th>feat_33_pca</th>\n",
       "      <th>feat_34_pca</th>\n",
       "      <th>feat_35_pca</th>\n",
       "      <th>feat_36_pca</th>\n",
       "      <th>feat_37_pca</th>\n",
       "      <th>feat_38_pca</th>\n",
       "      <th>feat_39_pca</th>\n",
       "    </tr>\n",
       "  </thead>\n",
       "  <tbody>\n",
       "    <tr>\n",
       "      <th>0</th>\n",
       "      <td>AHZ2000ap3</td>\n",
       "      <td>/media/team_workspaces/astronomaly-project/ima...</td>\n",
       "      <td>0.644151</td>\n",
       "      <td>-0.607720</td>\n",
       "      <td>-0.652212</td>\n",
       "      <td>0.161491</td>\n",
       "      <td>0.329425</td>\n",
       "      <td>-0.111614</td>\n",
       "      <td>-0.078075</td>\n",
       "      <td>0.243963</td>\n",
       "      <td>...</td>\n",
       "      <td>-0.047008</td>\n",
       "      <td>0.034110</td>\n",
       "      <td>0.045288</td>\n",
       "      <td>-0.014910</td>\n",
       "      <td>-0.027302</td>\n",
       "      <td>-0.006636</td>\n",
       "      <td>0.066010</td>\n",
       "      <td>0.091932</td>\n",
       "      <td>0.000969</td>\n",
       "      <td>0.081786</td>\n",
       "    </tr>\n",
       "    <tr>\n",
       "      <th>1</th>\n",
       "      <td>4000712889196</td>\n",
       "      <td>/media/team_workspaces/astronomaly-project/ima...</td>\n",
       "      <td>1.793052</td>\n",
       "      <td>-0.652613</td>\n",
       "      <td>-0.547502</td>\n",
       "      <td>-0.185649</td>\n",
       "      <td>0.189948</td>\n",
       "      <td>0.280023</td>\n",
       "      <td>-0.285091</td>\n",
       "      <td>0.526109</td>\n",
       "      <td>...</td>\n",
       "      <td>-0.011317</td>\n",
       "      <td>0.019125</td>\n",
       "      <td>-0.010794</td>\n",
       "      <td>-0.032408</td>\n",
       "      <td>0.003039</td>\n",
       "      <td>-0.010592</td>\n",
       "      <td>0.056721</td>\n",
       "      <td>-0.019649</td>\n",
       "      <td>-0.013452</td>\n",
       "      <td>0.017829</td>\n",
       "    </tr>\n",
       "    <tr>\n",
       "      <th>2</th>\n",
       "      <td>4000710658615</td>\n",
       "      <td>/media/team_workspaces/astronomaly-project/ima...</td>\n",
       "      <td>1.944819</td>\n",
       "      <td>-0.582089</td>\n",
       "      <td>-0.348063</td>\n",
       "      <td>-0.240915</td>\n",
       "      <td>0.122469</td>\n",
       "      <td>0.270349</td>\n",
       "      <td>-0.146614</td>\n",
       "      <td>0.333893</td>\n",
       "      <td>...</td>\n",
       "      <td>0.003306</td>\n",
       "      <td>0.047460</td>\n",
       "      <td>0.016832</td>\n",
       "      <td>-0.037377</td>\n",
       "      <td>0.016838</td>\n",
       "      <td>0.003930</td>\n",
       "      <td>0.026537</td>\n",
       "      <td>-0.018909</td>\n",
       "      <td>-0.034380</td>\n",
       "      <td>0.011928</td>\n",
       "    </tr>\n",
       "    <tr>\n",
       "      <th>3</th>\n",
       "      <td>AHZ2000ow7</td>\n",
       "      <td>/media/team_workspaces/astronomaly-project/ima...</td>\n",
       "      <td>-0.111912</td>\n",
       "      <td>-0.038260</td>\n",
       "      <td>0.540898</td>\n",
       "      <td>0.007854</td>\n",
       "      <td>0.466451</td>\n",
       "      <td>0.022677</td>\n",
       "      <td>-0.420133</td>\n",
       "      <td>0.039169</td>\n",
       "      <td>...</td>\n",
       "      <td>0.072039</td>\n",
       "      <td>-0.012041</td>\n",
       "      <td>-0.008450</td>\n",
       "      <td>-0.006786</td>\n",
       "      <td>0.015151</td>\n",
       "      <td>0.015686</td>\n",
       "      <td>-0.020232</td>\n",
       "      <td>-0.018433</td>\n",
       "      <td>0.018422</td>\n",
       "      <td>-0.000777</td>\n",
       "    </tr>\n",
       "    <tr>\n",
       "      <th>4</th>\n",
       "      <td>4111276917</td>\n",
       "      <td>/media/team_workspaces/astronomaly-project/ima...</td>\n",
       "      <td>-1.876487</td>\n",
       "      <td>0.702289</td>\n",
       "      <td>0.362675</td>\n",
       "      <td>-0.520290</td>\n",
       "      <td>0.039717</td>\n",
       "      <td>-0.165041</td>\n",
       "      <td>-0.341243</td>\n",
       "      <td>0.122296</td>\n",
       "      <td>...</td>\n",
       "      <td>-0.077778</td>\n",
       "      <td>0.000792</td>\n",
       "      <td>-0.052679</td>\n",
       "      <td>0.002063</td>\n",
       "      <td>-0.001525</td>\n",
       "      <td>-0.030409</td>\n",
       "      <td>-0.050910</td>\n",
       "      <td>-0.043423</td>\n",
       "      <td>0.009688</td>\n",
       "      <td>0.039821</td>\n",
       "    </tr>\n",
       "  </tbody>\n",
       "</table>\n",
       "<p>5 rows × 42 columns</p>\n",
       "</div>"
      ],
      "text/plain": [
       "        SourceID                                           file_loc  \\\n",
       "0     AHZ2000ap3  /media/team_workspaces/astronomaly-project/ima...   \n",
       "1  4000712889196  /media/team_workspaces/astronomaly-project/ima...   \n",
       "2  4000710658615  /media/team_workspaces/astronomaly-project/ima...   \n",
       "3     AHZ2000ow7  /media/team_workspaces/astronomaly-project/ima...   \n",
       "4     4111276917  /media/team_workspaces/astronomaly-project/ima...   \n",
       "\n",
       "   feat_0_pca  feat_1_pca  feat_2_pca  feat_3_pca  feat_4_pca  feat_5_pca  \\\n",
       "0    0.644151   -0.607720   -0.652212    0.161491    0.329425   -0.111614   \n",
       "1    1.793052   -0.652613   -0.547502   -0.185649    0.189948    0.280023   \n",
       "2    1.944819   -0.582089   -0.348063   -0.240915    0.122469    0.270349   \n",
       "3   -0.111912   -0.038260    0.540898    0.007854    0.466451    0.022677   \n",
       "4   -1.876487    0.702289    0.362675   -0.520290    0.039717   -0.165041   \n",
       "\n",
       "   feat_6_pca  feat_7_pca  ...  feat_30_pca  feat_31_pca  feat_32_pca  \\\n",
       "0   -0.078075    0.243963  ...    -0.047008     0.034110     0.045288   \n",
       "1   -0.285091    0.526109  ...    -0.011317     0.019125    -0.010794   \n",
       "2   -0.146614    0.333893  ...     0.003306     0.047460     0.016832   \n",
       "3   -0.420133    0.039169  ...     0.072039    -0.012041    -0.008450   \n",
       "4   -0.341243    0.122296  ...    -0.077778     0.000792    -0.052679   \n",
       "\n",
       "   feat_33_pca  feat_34_pca  feat_35_pca  feat_36_pca  feat_37_pca  \\\n",
       "0    -0.014910    -0.027302    -0.006636     0.066010     0.091932   \n",
       "1    -0.032408     0.003039    -0.010592     0.056721    -0.019649   \n",
       "2    -0.037377     0.016838     0.003930     0.026537    -0.018909   \n",
       "3    -0.006786     0.015151     0.015686    -0.020232    -0.018433   \n",
       "4     0.002063    -0.001525    -0.030409    -0.050910    -0.043423   \n",
       "\n",
       "   feat_38_pca  feat_39_pca  \n",
       "0     0.000969     0.081786  \n",
       "1    -0.013452     0.017829  \n",
       "2    -0.034380     0.011928  \n",
       "3     0.018422    -0.000777  \n",
       "4     0.009688     0.039821  \n",
       "\n",
       "[5 rows x 42 columns]"
      ]
     },
     "execution_count": 223,
     "metadata": {},
     "output_type": "execute_result"
    }
   ],
   "source": [
    "features.head()"
   ]
  },
  {
   "cell_type": "markdown",
   "id": "5ebb2e2d-db7c-421d-a66c-69c1418fb789",
   "metadata": {},
   "source": [
    "### Separate the features and the metadata(crucial to understanding data but not for the ML) about each source"
   ]
  },
  {
   "cell_type": "code",
   "execution_count": 224,
   "id": "91df9855-ec9f-450b-ae71-bc3e1542b9b9",
   "metadata": {},
   "outputs": [],
   "source": [
    "## remove feature's id, location\n",
    "features = features.drop(columns= ['SourceID', 'file_loc'], axis= 1)\n",
    "metadata = features_reduced[['SourceID', 'file_loc']]"
   ]
  },
  {
   "cell_type": "code",
   "execution_count": 225,
   "id": "dbb22526-3635-4d24-98f1-aa55d289e36c",
   "metadata": {
    "tags": []
   },
   "outputs": [
    {
     "data": {
      "text/html": [
       "<div>\n",
       "<style scoped>\n",
       "    .dataframe tbody tr th:only-of-type {\n",
       "        vertical-align: middle;\n",
       "    }\n",
       "\n",
       "    .dataframe tbody tr th {\n",
       "        vertical-align: top;\n",
       "    }\n",
       "\n",
       "    .dataframe thead th {\n",
       "        text-align: right;\n",
       "    }\n",
       "</style>\n",
       "<table border=\"1\" class=\"dataframe\">\n",
       "  <thead>\n",
       "    <tr style=\"text-align: right;\">\n",
       "      <th></th>\n",
       "      <th>SourceID</th>\n",
       "      <th>file_loc</th>\n",
       "    </tr>\n",
       "  </thead>\n",
       "  <tbody>\n",
       "    <tr>\n",
       "      <th>0</th>\n",
       "      <td>AHZ2000ap3</td>\n",
       "      <td>/media/team_workspaces/astronomaly-project/ima...</td>\n",
       "    </tr>\n",
       "    <tr>\n",
       "      <th>1</th>\n",
       "      <td>4000712889196</td>\n",
       "      <td>/media/team_workspaces/astronomaly-project/ima...</td>\n",
       "    </tr>\n",
       "    <tr>\n",
       "      <th>2</th>\n",
       "      <td>4000710658615</td>\n",
       "      <td>/media/team_workspaces/astronomaly-project/ima...</td>\n",
       "    </tr>\n",
       "    <tr>\n",
       "      <th>3</th>\n",
       "      <td>AHZ2000ow7</td>\n",
       "      <td>/media/team_workspaces/astronomaly-project/ima...</td>\n",
       "    </tr>\n",
       "    <tr>\n",
       "      <th>4</th>\n",
       "      <td>4111276917</td>\n",
       "      <td>/media/team_workspaces/astronomaly-project/ima...</td>\n",
       "    </tr>\n",
       "    <tr>\n",
       "      <th>...</th>\n",
       "      <td>...</td>\n",
       "      <td>...</td>\n",
       "    </tr>\n",
       "    <tr>\n",
       "      <th>17596</th>\n",
       "      <td>64189308</td>\n",
       "      <td>/media/team_workspaces/astronomaly-project/ima...</td>\n",
       "    </tr>\n",
       "    <tr>\n",
       "      <th>17597</th>\n",
       "      <td>4000709888007</td>\n",
       "      <td>/media/team_workspaces/astronomaly-project/ima...</td>\n",
       "    </tr>\n",
       "    <tr>\n",
       "      <th>17598</th>\n",
       "      <td>AHZ20013on</td>\n",
       "      <td>/media/team_workspaces/astronomaly-project/ima...</td>\n",
       "    </tr>\n",
       "    <tr>\n",
       "      <th>17599</th>\n",
       "      <td>AHZ2001ivx</td>\n",
       "      <td>/media/team_workspaces/astronomaly-project/ima...</td>\n",
       "    </tr>\n",
       "    <tr>\n",
       "      <th>17600</th>\n",
       "      <td>COS_2333</td>\n",
       "      <td>/media/team_workspaces/astronomaly-project/ima...</td>\n",
       "    </tr>\n",
       "  </tbody>\n",
       "</table>\n",
       "<p>17390 rows × 2 columns</p>\n",
       "</div>"
      ],
      "text/plain": [
       "            SourceID                                           file_loc\n",
       "0         AHZ2000ap3  /media/team_workspaces/astronomaly-project/ima...\n",
       "1      4000712889196  /media/team_workspaces/astronomaly-project/ima...\n",
       "2      4000710658615  /media/team_workspaces/astronomaly-project/ima...\n",
       "3         AHZ2000ow7  /media/team_workspaces/astronomaly-project/ima...\n",
       "4         4111276917  /media/team_workspaces/astronomaly-project/ima...\n",
       "...              ...                                                ...\n",
       "17596       64189308  /media/team_workspaces/astronomaly-project/ima...\n",
       "17597  4000709888007  /media/team_workspaces/astronomaly-project/ima...\n",
       "17598     AHZ20013on  /media/team_workspaces/astronomaly-project/ima...\n",
       "17599     AHZ2001ivx  /media/team_workspaces/astronomaly-project/ima...\n",
       "17600       COS_2333  /media/team_workspaces/astronomaly-project/ima...\n",
       "\n",
       "[17390 rows x 2 columns]"
      ]
     },
     "execution_count": 225,
     "metadata": {},
     "output_type": "execute_result"
    }
   ],
   "source": [
    "metadata"
   ]
  },
  {
   "cell_type": "code",
   "execution_count": 226,
   "id": "10e83c0e-2fca-413e-980b-5bb8e49df139",
   "metadata": {
    "tags": []
   },
   "outputs": [],
   "source": [
    "metadata = pd.DataFrame(metadata)"
   ]
  },
  {
   "cell_type": "code",
   "execution_count": 227,
   "id": "2f367a92-14e4-47fa-a0bb-ca72e7963541",
   "metadata": {
    "tags": []
   },
   "outputs": [
    {
     "data": {
      "text/html": [
       "<div>\n",
       "<style scoped>\n",
       "    .dataframe tbody tr th:only-of-type {\n",
       "        vertical-align: middle;\n",
       "    }\n",
       "\n",
       "    .dataframe tbody tr th {\n",
       "        vertical-align: top;\n",
       "    }\n",
       "\n",
       "    .dataframe thead th {\n",
       "        text-align: right;\n",
       "    }\n",
       "</style>\n",
       "<table border=\"1\" class=\"dataframe\">\n",
       "  <thead>\n",
       "    <tr style=\"text-align: right;\">\n",
       "      <th></th>\n",
       "      <th>feat_0_pca</th>\n",
       "      <th>feat_1_pca</th>\n",
       "      <th>feat_2_pca</th>\n",
       "      <th>feat_3_pca</th>\n",
       "      <th>feat_4_pca</th>\n",
       "      <th>feat_5_pca</th>\n",
       "      <th>feat_6_pca</th>\n",
       "      <th>feat_7_pca</th>\n",
       "      <th>feat_8_pca</th>\n",
       "      <th>feat_9_pca</th>\n",
       "      <th>...</th>\n",
       "      <th>feat_30_pca</th>\n",
       "      <th>feat_31_pca</th>\n",
       "      <th>feat_32_pca</th>\n",
       "      <th>feat_33_pca</th>\n",
       "      <th>feat_34_pca</th>\n",
       "      <th>feat_35_pca</th>\n",
       "      <th>feat_36_pca</th>\n",
       "      <th>feat_37_pca</th>\n",
       "      <th>feat_38_pca</th>\n",
       "      <th>feat_39_pca</th>\n",
       "    </tr>\n",
       "  </thead>\n",
       "  <tbody>\n",
       "    <tr>\n",
       "      <th>0</th>\n",
       "      <td>0.644151</td>\n",
       "      <td>-0.607720</td>\n",
       "      <td>-0.652212</td>\n",
       "      <td>0.161491</td>\n",
       "      <td>0.329425</td>\n",
       "      <td>-0.111614</td>\n",
       "      <td>-0.078075</td>\n",
       "      <td>0.243963</td>\n",
       "      <td>0.225556</td>\n",
       "      <td>0.208291</td>\n",
       "      <td>...</td>\n",
       "      <td>-0.047008</td>\n",
       "      <td>0.034110</td>\n",
       "      <td>0.045288</td>\n",
       "      <td>-0.014910</td>\n",
       "      <td>-0.027302</td>\n",
       "      <td>-0.006636</td>\n",
       "      <td>0.066010</td>\n",
       "      <td>0.091932</td>\n",
       "      <td>0.000969</td>\n",
       "      <td>0.081786</td>\n",
       "    </tr>\n",
       "    <tr>\n",
       "      <th>1</th>\n",
       "      <td>1.793052</td>\n",
       "      <td>-0.652613</td>\n",
       "      <td>-0.547502</td>\n",
       "      <td>-0.185649</td>\n",
       "      <td>0.189948</td>\n",
       "      <td>0.280023</td>\n",
       "      <td>-0.285091</td>\n",
       "      <td>0.526109</td>\n",
       "      <td>0.287551</td>\n",
       "      <td>0.019724</td>\n",
       "      <td>...</td>\n",
       "      <td>-0.011317</td>\n",
       "      <td>0.019125</td>\n",
       "      <td>-0.010794</td>\n",
       "      <td>-0.032408</td>\n",
       "      <td>0.003039</td>\n",
       "      <td>-0.010592</td>\n",
       "      <td>0.056721</td>\n",
       "      <td>-0.019649</td>\n",
       "      <td>-0.013452</td>\n",
       "      <td>0.017829</td>\n",
       "    </tr>\n",
       "    <tr>\n",
       "      <th>2</th>\n",
       "      <td>1.944819</td>\n",
       "      <td>-0.582089</td>\n",
       "      <td>-0.348063</td>\n",
       "      <td>-0.240915</td>\n",
       "      <td>0.122469</td>\n",
       "      <td>0.270349</td>\n",
       "      <td>-0.146614</td>\n",
       "      <td>0.333893</td>\n",
       "      <td>0.026204</td>\n",
       "      <td>-0.147662</td>\n",
       "      <td>...</td>\n",
       "      <td>0.003306</td>\n",
       "      <td>0.047460</td>\n",
       "      <td>0.016832</td>\n",
       "      <td>-0.037377</td>\n",
       "      <td>0.016838</td>\n",
       "      <td>0.003930</td>\n",
       "      <td>0.026537</td>\n",
       "      <td>-0.018909</td>\n",
       "      <td>-0.034380</td>\n",
       "      <td>0.011928</td>\n",
       "    </tr>\n",
       "    <tr>\n",
       "      <th>3</th>\n",
       "      <td>-0.111912</td>\n",
       "      <td>-0.038260</td>\n",
       "      <td>0.540898</td>\n",
       "      <td>0.007854</td>\n",
       "      <td>0.466451</td>\n",
       "      <td>0.022677</td>\n",
       "      <td>-0.420133</td>\n",
       "      <td>0.039169</td>\n",
       "      <td>-0.212975</td>\n",
       "      <td>-0.124386</td>\n",
       "      <td>...</td>\n",
       "      <td>0.072039</td>\n",
       "      <td>-0.012041</td>\n",
       "      <td>-0.008450</td>\n",
       "      <td>-0.006786</td>\n",
       "      <td>0.015151</td>\n",
       "      <td>0.015686</td>\n",
       "      <td>-0.020232</td>\n",
       "      <td>-0.018433</td>\n",
       "      <td>0.018422</td>\n",
       "      <td>-0.000777</td>\n",
       "    </tr>\n",
       "    <tr>\n",
       "      <th>4</th>\n",
       "      <td>-1.876487</td>\n",
       "      <td>0.702289</td>\n",
       "      <td>0.362675</td>\n",
       "      <td>-0.520290</td>\n",
       "      <td>0.039717</td>\n",
       "      <td>-0.165041</td>\n",
       "      <td>-0.341243</td>\n",
       "      <td>0.122296</td>\n",
       "      <td>0.052079</td>\n",
       "      <td>0.026967</td>\n",
       "      <td>...</td>\n",
       "      <td>-0.077778</td>\n",
       "      <td>0.000792</td>\n",
       "      <td>-0.052679</td>\n",
       "      <td>0.002063</td>\n",
       "      <td>-0.001525</td>\n",
       "      <td>-0.030409</td>\n",
       "      <td>-0.050910</td>\n",
       "      <td>-0.043423</td>\n",
       "      <td>0.009688</td>\n",
       "      <td>0.039821</td>\n",
       "    </tr>\n",
       "    <tr>\n",
       "      <th>...</th>\n",
       "      <td>...</td>\n",
       "      <td>...</td>\n",
       "      <td>...</td>\n",
       "      <td>...</td>\n",
       "      <td>...</td>\n",
       "      <td>...</td>\n",
       "      <td>...</td>\n",
       "      <td>...</td>\n",
       "      <td>...</td>\n",
       "      <td>...</td>\n",
       "      <td>...</td>\n",
       "      <td>...</td>\n",
       "      <td>...</td>\n",
       "      <td>...</td>\n",
       "      <td>...</td>\n",
       "      <td>...</td>\n",
       "      <td>...</td>\n",
       "      <td>...</td>\n",
       "      <td>...</td>\n",
       "      <td>...</td>\n",
       "      <td>...</td>\n",
       "    </tr>\n",
       "    <tr>\n",
       "      <th>17596</th>\n",
       "      <td>-1.596677</td>\n",
       "      <td>-0.390882</td>\n",
       "      <td>-0.305283</td>\n",
       "      <td>-0.438172</td>\n",
       "      <td>-1.094033</td>\n",
       "      <td>0.054087</td>\n",
       "      <td>0.247124</td>\n",
       "      <td>0.156970</td>\n",
       "      <td>-0.447714</td>\n",
       "      <td>-0.183841</td>\n",
       "      <td>...</td>\n",
       "      <td>0.081421</td>\n",
       "      <td>-0.066399</td>\n",
       "      <td>-0.021305</td>\n",
       "      <td>0.088554</td>\n",
       "      <td>0.064309</td>\n",
       "      <td>-0.076932</td>\n",
       "      <td>0.009420</td>\n",
       "      <td>-0.044328</td>\n",
       "      <td>-0.101527</td>\n",
       "      <td>0.013420</td>\n",
       "    </tr>\n",
       "    <tr>\n",
       "      <th>17597</th>\n",
       "      <td>-0.199175</td>\n",
       "      <td>-0.230402</td>\n",
       "      <td>-0.786815</td>\n",
       "      <td>-0.264246</td>\n",
       "      <td>-0.084064</td>\n",
       "      <td>-0.182996</td>\n",
       "      <td>0.337683</td>\n",
       "      <td>1.069785</td>\n",
       "      <td>0.148960</td>\n",
       "      <td>-0.381705</td>\n",
       "      <td>...</td>\n",
       "      <td>0.052100</td>\n",
       "      <td>0.082204</td>\n",
       "      <td>-0.014934</td>\n",
       "      <td>0.014840</td>\n",
       "      <td>-0.024947</td>\n",
       "      <td>0.062010</td>\n",
       "      <td>0.095045</td>\n",
       "      <td>-0.071596</td>\n",
       "      <td>0.005432</td>\n",
       "      <td>0.025155</td>\n",
       "    </tr>\n",
       "    <tr>\n",
       "      <th>17598</th>\n",
       "      <td>-0.626084</td>\n",
       "      <td>0.242955</td>\n",
       "      <td>0.818994</td>\n",
       "      <td>-0.090439</td>\n",
       "      <td>-0.500461</td>\n",
       "      <td>0.241786</td>\n",
       "      <td>-0.386057</td>\n",
       "      <td>0.056521</td>\n",
       "      <td>-0.111743</td>\n",
       "      <td>-0.097945</td>\n",
       "      <td>...</td>\n",
       "      <td>0.035144</td>\n",
       "      <td>-0.016096</td>\n",
       "      <td>-0.027457</td>\n",
       "      <td>-0.020181</td>\n",
       "      <td>0.036698</td>\n",
       "      <td>-0.037808</td>\n",
       "      <td>0.016292</td>\n",
       "      <td>0.010604</td>\n",
       "      <td>0.010578</td>\n",
       "      <td>0.030527</td>\n",
       "    </tr>\n",
       "    <tr>\n",
       "      <th>17599</th>\n",
       "      <td>-0.492462</td>\n",
       "      <td>-1.114859</td>\n",
       "      <td>0.558716</td>\n",
       "      <td>0.376411</td>\n",
       "      <td>0.304337</td>\n",
       "      <td>-0.003205</td>\n",
       "      <td>-0.300885</td>\n",
       "      <td>0.091722</td>\n",
       "      <td>-0.281236</td>\n",
       "      <td>-0.547345</td>\n",
       "      <td>...</td>\n",
       "      <td>0.068283</td>\n",
       "      <td>0.030559</td>\n",
       "      <td>-0.046519</td>\n",
       "      <td>0.002523</td>\n",
       "      <td>-0.006106</td>\n",
       "      <td>0.010118</td>\n",
       "      <td>0.013822</td>\n",
       "      <td>-0.054950</td>\n",
       "      <td>0.106773</td>\n",
       "      <td>-0.033977</td>\n",
       "    </tr>\n",
       "    <tr>\n",
       "      <th>17600</th>\n",
       "      <td>1.058467</td>\n",
       "      <td>0.681638</td>\n",
       "      <td>-0.520016</td>\n",
       "      <td>0.339128</td>\n",
       "      <td>0.096132</td>\n",
       "      <td>0.097604</td>\n",
       "      <td>-0.088709</td>\n",
       "      <td>0.146015</td>\n",
       "      <td>-0.098534</td>\n",
       "      <td>-0.271489</td>\n",
       "      <td>...</td>\n",
       "      <td>0.039116</td>\n",
       "      <td>0.011045</td>\n",
       "      <td>0.037385</td>\n",
       "      <td>0.019465</td>\n",
       "      <td>0.046756</td>\n",
       "      <td>0.019663</td>\n",
       "      <td>0.045866</td>\n",
       "      <td>-0.018512</td>\n",
       "      <td>0.003390</td>\n",
       "      <td>-0.012820</td>\n",
       "    </tr>\n",
       "  </tbody>\n",
       "</table>\n",
       "<p>17390 rows × 40 columns</p>\n",
       "</div>"
      ],
      "text/plain": [
       "       feat_0_pca  feat_1_pca  feat_2_pca  feat_3_pca  feat_4_pca  feat_5_pca  \\\n",
       "0        0.644151   -0.607720   -0.652212    0.161491    0.329425   -0.111614   \n",
       "1        1.793052   -0.652613   -0.547502   -0.185649    0.189948    0.280023   \n",
       "2        1.944819   -0.582089   -0.348063   -0.240915    0.122469    0.270349   \n",
       "3       -0.111912   -0.038260    0.540898    0.007854    0.466451    0.022677   \n",
       "4       -1.876487    0.702289    0.362675   -0.520290    0.039717   -0.165041   \n",
       "...           ...         ...         ...         ...         ...         ...   \n",
       "17596   -1.596677   -0.390882   -0.305283   -0.438172   -1.094033    0.054087   \n",
       "17597   -0.199175   -0.230402   -0.786815   -0.264246   -0.084064   -0.182996   \n",
       "17598   -0.626084    0.242955    0.818994   -0.090439   -0.500461    0.241786   \n",
       "17599   -0.492462   -1.114859    0.558716    0.376411    0.304337   -0.003205   \n",
       "17600    1.058467    0.681638   -0.520016    0.339128    0.096132    0.097604   \n",
       "\n",
       "       feat_6_pca  feat_7_pca  feat_8_pca  feat_9_pca  ...  feat_30_pca  \\\n",
       "0       -0.078075    0.243963    0.225556    0.208291  ...    -0.047008   \n",
       "1       -0.285091    0.526109    0.287551    0.019724  ...    -0.011317   \n",
       "2       -0.146614    0.333893    0.026204   -0.147662  ...     0.003306   \n",
       "3       -0.420133    0.039169   -0.212975   -0.124386  ...     0.072039   \n",
       "4       -0.341243    0.122296    0.052079    0.026967  ...    -0.077778   \n",
       "...           ...         ...         ...         ...  ...          ...   \n",
       "17596    0.247124    0.156970   -0.447714   -0.183841  ...     0.081421   \n",
       "17597    0.337683    1.069785    0.148960   -0.381705  ...     0.052100   \n",
       "17598   -0.386057    0.056521   -0.111743   -0.097945  ...     0.035144   \n",
       "17599   -0.300885    0.091722   -0.281236   -0.547345  ...     0.068283   \n",
       "17600   -0.088709    0.146015   -0.098534   -0.271489  ...     0.039116   \n",
       "\n",
       "       feat_31_pca  feat_32_pca  feat_33_pca  feat_34_pca  feat_35_pca  \\\n",
       "0         0.034110     0.045288    -0.014910    -0.027302    -0.006636   \n",
       "1         0.019125    -0.010794    -0.032408     0.003039    -0.010592   \n",
       "2         0.047460     0.016832    -0.037377     0.016838     0.003930   \n",
       "3        -0.012041    -0.008450    -0.006786     0.015151     0.015686   \n",
       "4         0.000792    -0.052679     0.002063    -0.001525    -0.030409   \n",
       "...            ...          ...          ...          ...          ...   \n",
       "17596    -0.066399    -0.021305     0.088554     0.064309    -0.076932   \n",
       "17597     0.082204    -0.014934     0.014840    -0.024947     0.062010   \n",
       "17598    -0.016096    -0.027457    -0.020181     0.036698    -0.037808   \n",
       "17599     0.030559    -0.046519     0.002523    -0.006106     0.010118   \n",
       "17600     0.011045     0.037385     0.019465     0.046756     0.019663   \n",
       "\n",
       "       feat_36_pca  feat_37_pca  feat_38_pca  feat_39_pca  \n",
       "0         0.066010     0.091932     0.000969     0.081786  \n",
       "1         0.056721    -0.019649    -0.013452     0.017829  \n",
       "2         0.026537    -0.018909    -0.034380     0.011928  \n",
       "3        -0.020232    -0.018433     0.018422    -0.000777  \n",
       "4        -0.050910    -0.043423     0.009688     0.039821  \n",
       "...            ...          ...          ...          ...  \n",
       "17596     0.009420    -0.044328    -0.101527     0.013420  \n",
       "17597     0.095045    -0.071596     0.005432     0.025155  \n",
       "17598     0.016292     0.010604     0.010578     0.030527  \n",
       "17599     0.013822    -0.054950     0.106773    -0.033977  \n",
       "17600     0.045866    -0.018512     0.003390    -0.012820  \n",
       "\n",
       "[17390 rows x 40 columns]"
      ]
     },
     "execution_count": 227,
     "metadata": {},
     "output_type": "execute_result"
    }
   ],
   "source": [
    "features"
   ]
  },
  {
   "cell_type": "code",
   "execution_count": 228,
   "id": "1e6149d3-1e37-49e7-a06a-3e1dd37aa5ff",
   "metadata": {},
   "outputs": [
    {
     "data": {
      "text/plain": [
       "(17390, 40)"
      ]
     },
     "execution_count": 228,
     "metadata": {},
     "output_type": "execute_result"
    }
   ],
   "source": [
    "features.shape"
   ]
  },
  {
   "cell_type": "code",
   "execution_count": 229,
   "id": "699cb26d-bcea-475a-aea6-d84002c4b23b",
   "metadata": {
    "tags": []
   },
   "outputs": [
    {
     "data": {
      "text/plain": [
       "feat_0_pca     float64\n",
       "feat_1_pca     float64\n",
       "feat_2_pca     float64\n",
       "feat_3_pca     float64\n",
       "feat_4_pca     float64\n",
       "feat_5_pca     float64\n",
       "feat_6_pca     float64\n",
       "feat_7_pca     float64\n",
       "feat_8_pca     float64\n",
       "feat_9_pca     float64\n",
       "feat_10_pca    float64\n",
       "feat_11_pca    float64\n",
       "feat_12_pca    float64\n",
       "feat_13_pca    float64\n",
       "feat_14_pca    float64\n",
       "feat_15_pca    float64\n",
       "feat_16_pca    float64\n",
       "feat_17_pca    float64\n",
       "feat_18_pca    float64\n",
       "feat_19_pca    float64\n",
       "feat_20_pca    float64\n",
       "feat_21_pca    float64\n",
       "feat_22_pca    float64\n",
       "feat_23_pca    float64\n",
       "feat_24_pca    float64\n",
       "feat_25_pca    float64\n",
       "feat_26_pca    float64\n",
       "feat_27_pca    float64\n",
       "feat_28_pca    float64\n",
       "feat_29_pca    float64\n",
       "feat_30_pca    float64\n",
       "feat_31_pca    float64\n",
       "feat_32_pca    float64\n",
       "feat_33_pca    float64\n",
       "feat_34_pca    float64\n",
       "feat_35_pca    float64\n",
       "feat_36_pca    float64\n",
       "feat_37_pca    float64\n",
       "feat_38_pca    float64\n",
       "feat_39_pca    float64\n",
       "dtype: object"
      ]
     },
     "execution_count": 229,
     "metadata": {},
     "output_type": "execute_result"
    }
   ],
   "source": [
    "features.dtypes"
   ]
  },
  {
   "cell_type": "markdown",
   "id": "044c91bd-8c61-421d-b573-4d32a580cfa4",
   "metadata": {},
   "source": [
    "### Everything is now numerical, which is good for ML algorithms"
   ]
  },
  {
   "cell_type": "code",
   "execution_count": 230,
   "id": "a95b4860-6fbb-4d39-b610-46bd7f15d2be",
   "metadata": {},
   "outputs": [
    {
     "data": {
      "text/plain": [
       "0"
      ]
     },
     "execution_count": 230,
     "metadata": {},
     "output_type": "execute_result"
    }
   ],
   "source": [
    "features.isna().sum().sum()"
   ]
  },
  {
   "cell_type": "markdown",
   "id": "35f3991a-1600-4dde-87e5-c7c681eba6d9",
   "metadata": {},
   "source": [
    "## Local Outlier Factor(LOF) algorithm"
   ]
  },
  {
   "cell_type": "markdown",
   "id": "64f89c29-dceb-4ac8-a505-1847983bd63a",
   "metadata": {},
   "source": [
    "\n",
    "### We can use the attribute `negative_outlier_factor_` to order the data from most to least anomous. This is a slightly different way to use lof algorithm, as it's designed to tell you what's an anomaly and what isn't but we're interested in what's the *most* anomalous sources."
   ]
  },
  {
   "cell_type": "code",
   "execution_count": 231,
   "id": "aaca78ea-ac58-4bb8-ac1c-2a2280b90c5d",
   "metadata": {},
   "outputs": [],
   "source": [
    "# to run LOF\n",
    "lof = LocalOutlierFactor(n_neighbors= 20)     # choosing the parameter n-neibours, is reasable to choose 9 since our data is large (17390, 40)"
   ]
  },
  {
   "cell_type": "code",
   "execution_count": 232,
   "id": "0c0386d5-7d80-4d8a-b1a6-1705d4601f43",
   "metadata": {
    "tags": []
   },
   "outputs": [],
   "source": [
    "# predictions and score\n",
    "pred = lof.fit_predict(features)                 # features will be the inputs\n",
    "lof_score = lof.negative_outlier_factor_         # outliers tend to have a larger LOF_score and normalies will have negative_outlier_factor_ close to -1\n"
   ]
  },
  {
   "cell_type": "code",
   "execution_count": 233,
   "id": "7c112d2b-b5ce-4390-933f-b68008d61995",
   "metadata": {
    "tags": []
   },
   "outputs": [
    {
     "name": "stdout",
     "output_type": "stream",
     "text": [
      "The negative Outlier score: [1.30669629 1.34547525 1.16318008 ... 1.01474735 1.02509963 1.11625827]\n"
     ]
    }
   ],
   "source": [
    "print('The negative Outlier score:', - lof_score)\n",
    "\n",
    "#print('\\nScores:', lof.negative_outlier_factor_)"
   ]
  },
  {
   "cell_type": "markdown",
   "id": "00c52609-8cd5-48e0-9ad8-5b4e18340427",
   "metadata": {
    "jp-MarkdownHeadingCollapsed": true,
    "tags": []
   },
   "source": [
    "###"
   ]
  },
  {
   "cell_type": "markdown",
   "id": "9b3b0441-15ec-4ce9-9697-1015ed541aef",
   "metadata": {},
   "source": [
    "## Visualise the results"
   ]
  },
  {
   "cell_type": "markdown",
   "id": "3139b90c-1494-4146-89af-fc5881858b19",
   "metadata": {},
   "source": [
    "### We plot both random and non random images so we can compare with LOF highest scores"
   ]
  },
  {
   "cell_type": "code",
   "execution_count": null,
   "id": "27fbccad-9b74-4579-94cb-25c5df4bc0ef",
   "metadata": {},
   "outputs": [],
   "source": []
  },
  {
   "cell_type": "code",
   "execution_count": 234,
   "id": "270821fa-76e0-4548-9423-c79af6cbba98",
   "metadata": {
    "tags": []
   },
   "outputs": [],
   "source": [
    "## define random images from the metadata\n",
    "random_images = np.random.choice(list(metadata.file_loc), replace= False, size= 20)"
   ]
  },
  {
   "cell_type": "code",
   "execution_count": 235,
   "id": "a95460d5-08cc-4db3-970d-df1d92b27114",
   "metadata": {
    "tags": []
   },
   "outputs": [],
   "source": [
    "## Select the first 20 non random images from the metadata\n",
    "non_random_images = list(metadata['file_loc'][0:20])"
   ]
  },
  {
   "cell_type": "code",
   "execution_count": null,
   "id": "d3060c30-ef77-4004-8d85-6a21d2233f70",
   "metadata": {
    "tags": []
   },
   "outputs": [],
   "source": [
    "plt.figure(figsize= (20,20));\n",
    "images_1 = []\n",
    "\n",
    "for cnt, images_path in enumerate(non_random_images, 1):         # start= 1 the cnt-count enumerate images from non_random images \n",
    "    im = Image.open(images_path)\n",
    "    images_1.append(im.copy())                                     # store the images\n",
    "\n",
    "    plt.subplot(5, 4, cnt)\n",
    "    plt.imshow(im, cmap= 'Greys')\n",
    "    plt.axis('off');\n",
    "    plt.colorbar()\n",
    "\n",
    "plt.tight_layout()"
   ]
  },
  {
   "cell_type": "code",
   "execution_count": null,
   "id": "9bc5785f-9e23-466e-b037-82b9eb24b254",
   "metadata": {
    "tags": []
   },
   "outputs": [],
   "source": []
  },
  {
   "cell_type": "markdown",
   "id": "12e75e8b-3b35-435a-a294-8a226329abbd",
   "metadata": {},
   "source": [
    "### Randomly generated images"
   ]
  },
  {
   "cell_type": "code",
   "execution_count": null,
   "id": "3488a652-41b8-486b-942b-ddbb89aa83b8",
   "metadata": {
    "tags": []
   },
   "outputs": [],
   "source": [
    "plt.figure(figsize= (20,20))\n",
    "images_2 = [] \n",
    "\n",
    "for cnt, image in enumerate(random_images, 1):                       # start= 1 the cnt-count enumerate images from non_random images \n",
    "    im = Image.open(image)  \n",
    "    images_2.append(im.copy())                                         # store the images\n",
    "    \n",
    "    # plot 20 randomly chosen images in a single layout\n",
    "    plt.subplot(5, 4, cnt) \n",
    "    plt.imshow(im, cmap= 'Greys')\n",
    "    plt.colorbar()\n",
    "    plt.axis('off');\n",
    "\n",
    "plt.tight_layout()\n"
   ]
  },
  {
   "cell_type": "markdown",
   "id": "0880e887-4ce4-443b-bc5c-e18d7dd03a02",
   "metadata": {},
   "source": [
    "### We can Go on to compare the images"
   ]
  },
  {
   "cell_type": "markdown",
   "id": "c92ff1d2-e669-41b9-b6b1-d835118f9775",
   "metadata": {},
   "source": [
    "### Most anomalous sources  - most significant anomalies (the worst outliers)\n"
   ]
  },
  {
   "cell_type": "code",
   "execution_count": null,
   "id": "6707ee42-f3d1-4198-afc6-86c97215e240",
   "metadata": {
    "tags": []
   },
   "outputs": [],
   "source": [
    "# plot the top 20 high scoring anomalies/outliers\n",
    "# Ive already found the negative scores earlier"
   ]
  },
  {
   "cell_type": "code",
   "execution_count": null,
   "id": "6cccfc58-2e48-45de-ab05-f3d702a9a6ff",
   "metadata": {
    "tags": []
   },
   "outputs": [],
   "source": [
    "# top 20 anomalies(highest negative scores)\n",
    "top_anomalies = np.argsort(lof_score)[:20]                              # from numpy we can use argsort to sort the highest scores in order\n",
    "\n",
    "# anomalies path from matadata\n",
    "anomalies_paths = metadata.iloc[top_anomalies]['file_loc']\n"
   ]
  },
  {
   "cell_type": "code",
   "execution_count": null,
   "id": "2a73ee2c-cc97-4158-845c-8c041b0d6b56",
   "metadata": {
    "tags": []
   },
   "outputs": [],
   "source": []
  },
  {
   "cell_type": "markdown",
   "id": "2da33dd9-5e8a-49b7-877f-e6185491aec3",
   "metadata": {
    "tags": []
   },
   "source": [
    "##"
   ]
  },
  {
   "cell_type": "code",
   "execution_count": null,
   "id": "b0bd7c4f-af4e-459d-8cf9-8c3aafef7d66",
   "metadata": {
    "tags": []
   },
   "outputs": [],
   "source": [
    "plt.figure(figsize= (20,20))\n",
    "images_3 = [] \n",
    "\n",
    "for cnt, anomalies in enumerate(anomalies_paths, 1):                       # start= 1 the cnt-count enumerate images from non_random images \n",
    "    im = Image.open(anomalies)  \n",
    "    images_3.append(im.copy())                                               # store the images\n",
    "    \n",
    "    # plot 20 randomly chosen images in a single layout\n",
    "    plt.subplot(5, 4, cnt) \n",
    "    plt.imshow(im, cmap= 'Greys')\n",
    "    plt.colorbar()\n",
    "    plt.axis('off');\n",
    "\n",
    "plt.tight_layout()"
   ]
  },
  {
   "cell_type": "markdown",
   "id": "cd4d66a9-817e-4b77-bd80-0ba45f8b1135",
   "metadata": {},
   "source": [
    "### galaxies with high LOF scores physically unusual/'boring galaxies'"
   ]
  },
  {
   "cell_type": "markdown",
   "id": "57e69698-612c-44cf-be66-c743e0d6e1fc",
   "metadata": {},
   "source": [
    "### Shapes are weird and very bright as LOF increase"
   ]
  },
  {
   "cell_type": "code",
   "execution_count": null,
   "id": "a5c4253a-554f-44a8-9676-bef8e6b0e117",
   "metadata": {},
   "outputs": [],
   "source": []
  },
  {
   "cell_type": "code",
   "execution_count": null,
   "id": "ebd4017a-4b31-4537-96f1-a691e5d0d79f",
   "metadata": {
    "tags": []
   },
   "outputs": [],
   "source": [
    "anomalies_paths"
   ]
  },
  {
   "cell_type": "markdown",
   "id": "6f3f273f-5172-43d8-93ae-b227e81a102c",
   "metadata": {},
   "source": [
    "###"
   ]
  },
  {
   "cell_type": "code",
   "execution_count": null,
   "id": "47ce3ab0-d19c-4398-ba37-3cbfeea3a44c",
   "metadata": {},
   "outputs": [],
   "source": [
    "## source RA and Dec\n",
    "Ra_Dec = source_coords.iloc[top_anomalies]\n",
    "\n",
    "Ra_Dec"
   ]
  },
  {
   "cell_type": "code",
   "execution_count": null,
   "id": "1f5cac4c-0ffc-4cd6-b278-92ae946032f9",
   "metadata": {
    "tags": []
   },
   "outputs": [],
   "source": [
    "Ra_Dec = pd.DataFrame(Ra_Dec)"
   ]
  },
  {
   "cell_type": "code",
   "execution_count": null,
   "id": "9eec4a9a-d59d-459f-b434-d11b8f091248",
   "metadata": {
    "tags": []
   },
   "outputs": [],
   "source": [
    "Ra_Dec.shape"
   ]
  },
  {
   "cell_type": "code",
   "execution_count": null,
   "id": "7b65e617-a978-41dd-b578-70252fc19151",
   "metadata": {
    "tags": []
   },
   "outputs": [],
   "source": [
    "Ra_Dec"
   ]
  },
  {
   "cell_type": "code",
   "execution_count": null,
   "id": "c684cda3-306d-411a-bba2-de2961718eb5",
   "metadata": {
    "tags": []
   },
   "outputs": [],
   "source": [
    "Ra_Dec.iloc[0]"
   ]
  },
  {
   "cell_type": "raw",
   "id": "75e47594-8aa9-41cf-9d84-a6c9e2cb60bc",
   "metadata": {},
   "source": []
  },
  {
   "cell_type": "code",
   "execution_count": null,
   "id": "75012d41-89b2-4577-9667-8dedfd5ed447",
   "metadata": {
    "tags": []
   },
   "outputs": [],
   "source": [
    "images_3[0]\n",
    "\n",
    "#Ra_Dec[1]"
   ]
  },
  {
   "cell_type": "code",
   "execution_count": null,
   "id": "a317ea2b-abf2-482a-b4df-a9ce876e2b40",
   "metadata": {
    "tags": []
   },
   "outputs": [],
   "source": [
    "import matplotlib.image as mpimg\n",
    "\n",
    "# Assume top_anomalies[0] contains the index of the strongest anomaly\n",
    "strongest_anomaly_index = top_anomalies[0]\n",
    "\n",
    "\n",
    "galaxy = source_coords.iloc[strongest_anomaly_index]\n",
    "Ra = galaxy['RA'] \n",
    "Dec = galaxy['Dec']   \n",
    "\n",
    "galaxy"
   ]
  },
  {
   "cell_type": "markdown",
   "id": "917f5958-2baf-4b8b-8d9a-5302854bf614",
   "metadata": {},
   "source": [
    "### Galaxy Properties:\n",
    "### id: 4001388995406\n",
    "### Location: /media/team_workspaces/astronomaly-project/images/18k-sample/4001388995406.jpeg\n",
    "### Ra: 150.6204619\n",
    "### Dec: 2.6257818"
   ]
  },
  {
   "cell_type": "code",
   "execution_count": null,
   "id": "0772f0a2-f4a1-43f4-889f-6f8f85c31c6f",
   "metadata": {},
   "outputs": [],
   "source": []
  }
 ],
 "metadata": {
  "kernelspec": {
   "display_name": "Python 3 (ipykernel)",
   "language": "python",
   "name": "python3"
  },
  "language_info": {
   "codemirror_mode": {
    "name": "ipython",
    "version": 3
   },
   "file_extension": ".py",
   "mimetype": "text/x-python",
   "name": "python",
   "nbconvert_exporter": "python",
   "pygments_lexer": "ipython3",
   "version": "3.11.5"
  },
  "toc-autonumbering": true
 },
 "nbformat": 4,
 "nbformat_minor": 5
}
